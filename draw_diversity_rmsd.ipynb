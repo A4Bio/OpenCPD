{
 "cells": [
  {
   "cell_type": "code",
   "execution_count": 2,
   "metadata": {},
   "outputs": [
    {
     "name": "stderr",
     "output_type": "stream",
     "text": [
      "/root/anaconda3/envs/foldingdiff/lib/python3.8/site-packages/tqdm/auto.py:22: TqdmWarning: IProgress not found. Please update jupyter and ipywidgets. See https://ipywidgets.readthedocs.io/en/stable/user_install.html\n",
      "  from .autonotebook import tqdm as notebook_tqdm\n"
     ]
    }
   ],
   "source": [
    "import torch\n",
    "import numpy as np\n"
   ]
  },
  {
   "cell_type": "code",
   "execution_count": 3,
   "metadata": {},
   "outputs": [],
   "source": [
    "method = ''\n",
    "result = torch.load(f\"/gaozhangyang/experiments/OpenCPD/results/MPNN/AlphaDesign/results_casp15.pt\")\n",
    "temperature = 0.1 # temperature取0(使用argmax采样), 0.1, 0.5, 1.0\n",
    "\n",
    "tokenizer = result['tokenizer']\n",
    "alphabet='ACDEFGHIKLMNPQRSTVWY'\n",
    "mask_token = []\n",
    "for token, idx in tokenizer.get_vocab().items():\n",
    "    if token not in alphabet:\n",
    "        mask_token.append(idx)\n",
    "\n",
    "raw_probs = result['pred_probs'][0]\n",
    "raw_probs[:, mask_token] = -10000\n",
    "if temperature==0:\n",
    "    probs = raw_probs\n",
    "else:\n",
    "    probs = torch.softmax(raw_probs/temperature, dim=-1)\n",
    "\n"
   ]
  },
  {
   "cell_type": "code",
   "execution_count": 38,
   "metadata": {},
   "outputs": [],
   "source": [
    "all_rmsd = []\n",
    "all_div = []\n",
    "for iter in range(10):\n",
    "    if temperature==0:\n",
    "        pred_seq_id = torch.argmax(probs, 1).squeeze(-1)\n",
    "    else:\n",
    "        pred_seq_id = torch.multinomial(probs, 1).squeeze(-1)\n",
    "    true_seq = tokenizer.decode(result['true_seq'][0]).replace(\" \", \"\")\n",
    "    pred_seq = tokenizer.decode(pred_seq_id).replace(\" \", \"\")\n",
    "    rmsd = Cal_RMSD(true_seq, pred_seq)\n",
    "    diversity = diversity = np.array([ true_res!=pred_res for true_res, pred_res in zip(true_seq, pred_seq)]).mean()\n",
    "    all_rmsd.append(rmsd)\n",
    "    all_div.append(diversity)"
   ]
  },
  {
   "cell_type": "code",
   "execution_count": 50,
   "metadata": {},
   "outputs": [],
   "source": [
    "# 横轴为diversity纵轴为RMSD, 每个temperature下采样10个点，绘制散点图。不同temperature的点用不同颜色标明。\n"
   ]
  },
  {
   "cell_type": "code",
   "execution_count": null,
   "metadata": {},
   "outputs": [],
   "source": []
  }
 ],
 "metadata": {
  "kernelspec": {
   "display_name": "foldingdiff",
   "language": "python",
   "name": "python3"
  },
  "language_info": {
   "codemirror_mode": {
    "name": "ipython",
    "version": 3
   },
   "file_extension": ".py",
   "mimetype": "text/x-python",
   "name": "python",
   "nbconvert_exporter": "python",
   "pygments_lexer": "ipython3",
   "version": "3.8.13"
  },
  "orig_nbformat": 4
 },
 "nbformat": 4,
 "nbformat_minor": 2
}
